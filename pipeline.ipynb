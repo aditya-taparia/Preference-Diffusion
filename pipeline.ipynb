{
 "cells": [
  {
   "cell_type": "code",
   "execution_count": 40,
   "metadata": {},
   "outputs": [],
   "source": [
    "from diffusers import StableDiffusionPipeline\n",
    "import torch\n",
    "\n",
    "from transformers import CLIPProcessor, CLIPModel\n",
    "from PIL import Image\n",
    "\n",
    "import os\n",
    "\n",
    "from sklearn.cluster import KMeans\n",
    "import numpy as np"
   ]
  },
  {
   "cell_type": "code",
   "execution_count": 2,
   "metadata": {},
   "outputs": [
    {
     "data": {
      "application/vnd.jupyter.widget-view+json": {
       "model_id": "399b9e17033d4585bb621afd49f3579f",
       "version_major": 2,
       "version_minor": 0
      },
      "text/plain": [
       "Loading pipeline components...:   0%|          | 0/7 [00:00<?, ?it/s]"
      ]
     },
     "metadata": {},
     "output_type": "display_data"
    },
    {
     "name": "stderr",
     "output_type": "stream",
     "text": [
      "c:\\Users\\adity\\AppData\\Local\\Programs\\Python\\Python310\\lib\\site-packages\\diffusers\\utils\\outputs.py:63: UserWarning: torch.utils._pytree._register_pytree_node is deprecated. Please use torch.utils._pytree.register_pytree_node instead.\n",
      "  torch.utils._pytree._register_pytree_node(\n"
     ]
    }
   ],
   "source": [
    "model_id = \"runwayml/stable-diffusion-v1-5\"\n",
    "device = \"cuda\" if torch.cuda.is_available() else \"cpu\"\n",
    "pipe = StableDiffusionPipeline.from_pretrained(model_id, torch_dtype=torch.float16)\n",
    "pipe = pipe.to(device)\n",
    "pipe.safety_checker = None"
   ]
  },
  {
   "cell_type": "code",
   "execution_count": 3,
   "metadata": {},
   "outputs": [],
   "source": [
    "# Use this function to generate images and save them to a folder\n",
    "\n",
    "def gen_images(prompt, folder_name):\n",
    "    for i in range(100):\n",
    "        image = pipe(prompt).images[0]\n",
    "        image.save(f\"{folder_name}/image_{i+1}.png\")\n",
    "    print(\"Done generating images\")\n",
    "    return True"
   ]
  },
  {
   "cell_type": "code",
   "execution_count": 4,
   "metadata": {},
   "outputs": [],
   "source": [
    "clip_model = CLIPModel.from_pretrained(\"openai/clip-vit-base-patch32\")\n",
    "clip_processor = CLIPProcessor.from_pretrained(\"openai/clip-vit-base-patch32\")\n",
    "clip_model = clip_model.to(device)"
   ]
  },
  {
   "cell_type": "code",
   "execution_count": 5,
   "metadata": {},
   "outputs": [],
   "source": [
    "def get_clip_embeddings(images):\n",
    "  \"\"\"\n",
    "    This function takes a list of images as input,\n",
    "    returning a list of clip embeddings of the images.\n",
    "\n",
    "    :param images: The input image as a string.\n",
    "    :return: A list of clip embeddings.\n",
    "    \"\"\"\n",
    "  inputs = clip_processor(images=images, return_tensors=\"pt\", padding=True).to(device)\n",
    "\n",
    "  with torch.no_grad():\n",
    "      image_features = clip_model.get_image_features(**inputs)\n",
    "\n",
    "  return image_features"
   ]
  },
  {
   "cell_type": "code",
   "execution_count": 11,
   "metadata": {},
   "outputs": [],
   "source": [
    "def get_embedding_from_folder(folder_name):\n",
    "    embeddings = []\n",
    "    for img in os.listdir(folder_name):\n",
    "        image = Image.open(f\"{folder_name}/{img}\")\n",
    "        image = image.convert(\"RGB\")\n",
    "        embeddings.append(get_clip_embeddings([image]))\n",
    "    return embeddings"
   ]
  },
  {
   "cell_type": "code",
   "execution_count": 28,
   "metadata": {},
   "outputs": [],
   "source": [
    "# Get embedding of dog images folder\n",
    "dog_folder = \"dog images\"\n",
    "dog_embeddings = get_embedding_from_folder(dog_folder)"
   ]
  },
  {
   "cell_type": "code",
   "execution_count": 17,
   "metadata": {},
   "outputs": [
    {
     "data": {
      "text/plain": [
       "100"
      ]
     },
     "execution_count": 17,
     "metadata": {},
     "output_type": "execute_result"
    }
   ],
   "source": [
    "len(dog_embeddings)"
   ]
  },
  {
   "cell_type": "code",
   "execution_count": 29,
   "metadata": {},
   "outputs": [],
   "source": [
    "# Convert the embeddings to numpy array\n",
    "dog_embeddings = np.array([embedding.cpu().numpy() for embedding in dog_embeddings]).squeeze()"
   ]
  },
  {
   "cell_type": "markdown",
   "metadata": {},
   "source": [
    "## K-Means Clustering"
   ]
  },
  {
   "cell_type": "code",
   "execution_count": 53,
   "metadata": {},
   "outputs": [],
   "source": [
    "kmeans_clusters = KMeans(n_clusters=10, init='k-means++').fit(dog_embeddings)"
   ]
  },
  {
   "cell_type": "code",
   "execution_count": 54,
   "metadata": {},
   "outputs": [],
   "source": [
    "# Get different images from each cluster\n",
    "def get_images_from_cluster(cluster_number, folder_name):\n",
    "    cluster_images = []\n",
    "    for i, label in enumerate(kmeans_clusters.labels_):\n",
    "        if label == cluster_number:\n",
    "            cluster_images.append(f\"{folder_name}/image_{i+1}.png\")\n",
    "    return cluster_images"
   ]
  },
  {
   "cell_type": "code",
   "execution_count": 55,
   "metadata": {},
   "outputs": [],
   "source": [
    "# Get images for all the clusters\n",
    "cluster_images = []\n",
    "for i in range(10):\n",
    "    cluster_images.append(get_images_from_cluster(i, dog_folder))"
   ]
  },
  {
   "cell_type": "code",
   "execution_count": 56,
   "metadata": {},
   "outputs": [
    {
     "data": {
      "text/plain": [
       "[['dog images/image_13.png',\n",
       "  'dog images/image_16.png',\n",
       "  'dog images/image_22.png',\n",
       "  'dog images/image_31.png',\n",
       "  'dog images/image_37.png',\n",
       "  'dog images/image_67.png',\n",
       "  'dog images/image_78.png',\n",
       "  'dog images/image_97.png'],\n",
       " ['dog images/image_7.png',\n",
       "  'dog images/image_19.png',\n",
       "  'dog images/image_24.png',\n",
       "  'dog images/image_25.png',\n",
       "  'dog images/image_33.png',\n",
       "  'dog images/image_39.png',\n",
       "  'dog images/image_44.png',\n",
       "  'dog images/image_46.png',\n",
       "  'dog images/image_48.png',\n",
       "  'dog images/image_52.png',\n",
       "  'dog images/image_57.png',\n",
       "  'dog images/image_58.png',\n",
       "  'dog images/image_63.png',\n",
       "  'dog images/image_64.png',\n",
       "  'dog images/image_66.png',\n",
       "  'dog images/image_68.png',\n",
       "  'dog images/image_69.png',\n",
       "  'dog images/image_72.png',\n",
       "  'dog images/image_74.png',\n",
       "  'dog images/image_76.png',\n",
       "  'dog images/image_82.png',\n",
       "  'dog images/image_84.png',\n",
       "  'dog images/image_89.png',\n",
       "  'dog images/image_92.png',\n",
       "  'dog images/image_93.png',\n",
       "  'dog images/image_96.png'],\n",
       " ['dog images/image_4.png',\n",
       "  'dog images/image_6.png',\n",
       "  'dog images/image_12.png',\n",
       "  'dog images/image_28.png',\n",
       "  'dog images/image_36.png',\n",
       "  'dog images/image_100.png'],\n",
       " ['dog images/image_14.png',\n",
       "  'dog images/image_29.png',\n",
       "  'dog images/image_32.png',\n",
       "  'dog images/image_45.png',\n",
       "  'dog images/image_49.png',\n",
       "  'dog images/image_50.png',\n",
       "  'dog images/image_53.png',\n",
       "  'dog images/image_55.png',\n",
       "  'dog images/image_60.png',\n",
       "  'dog images/image_94.png',\n",
       "  'dog images/image_98.png'],\n",
       " ['dog images/image_8.png',\n",
       "  'dog images/image_21.png',\n",
       "  'dog images/image_47.png',\n",
       "  'dog images/image_91.png'],\n",
       " ['dog images/image_17.png',\n",
       "  'dog images/image_87.png',\n",
       "  'dog images/image_99.png'],\n",
       " ['dog images/image_5.png',\n",
       "  'dog images/image_9.png',\n",
       "  'dog images/image_11.png',\n",
       "  'dog images/image_18.png',\n",
       "  'dog images/image_20.png',\n",
       "  'dog images/image_23.png',\n",
       "  'dog images/image_26.png',\n",
       "  'dog images/image_30.png',\n",
       "  'dog images/image_34.png',\n",
       "  'dog images/image_38.png',\n",
       "  'dog images/image_41.png',\n",
       "  'dog images/image_51.png',\n",
       "  'dog images/image_56.png',\n",
       "  'dog images/image_59.png',\n",
       "  'dog images/image_62.png',\n",
       "  'dog images/image_70.png',\n",
       "  'dog images/image_73.png',\n",
       "  'dog images/image_75.png',\n",
       "  'dog images/image_80.png',\n",
       "  'dog images/image_83.png',\n",
       "  'dog images/image_86.png',\n",
       "  'dog images/image_90.png',\n",
       "  'dog images/image_95.png'],\n",
       " ['dog images/image_2.png',\n",
       "  'dog images/image_15.png',\n",
       "  'dog images/image_27.png',\n",
       "  'dog images/image_42.png',\n",
       "  'dog images/image_77.png',\n",
       "  'dog images/image_85.png'],\n",
       " ['dog images/image_10.png',\n",
       "  'dog images/image_35.png',\n",
       "  'dog images/image_40.png',\n",
       "  'dog images/image_43.png',\n",
       "  'dog images/image_65.png',\n",
       "  'dog images/image_71.png',\n",
       "  'dog images/image_81.png'],\n",
       " ['dog images/image_1.png',\n",
       "  'dog images/image_3.png',\n",
       "  'dog images/image_54.png',\n",
       "  'dog images/image_61.png',\n",
       "  'dog images/image_79.png',\n",
       "  'dog images/image_88.png']]"
      ]
     },
     "execution_count": 56,
     "metadata": {},
     "output_type": "execute_result"
    }
   ],
   "source": [
    "cluster_images"
   ]
  },
  {
   "cell_type": "code",
   "execution_count": 60,
   "metadata": {},
   "outputs": [],
   "source": [
    "distance = kmeans_clusters.transform(dog_embeddings)"
   ]
  },
  {
   "cell_type": "code",
   "execution_count": 68,
   "metadata": {},
   "outputs": [],
   "source": [
    "# Combine the distance with the image labels path\n",
    "image_labels = []\n",
    "for i, label in enumerate(kmeans_clusters.labels_):\n",
    "    image_labels.append((cluster_images[label][0], distance[i][label]))"
   ]
  },
  {
   "cell_type": "code",
   "execution_count": 65,
   "metadata": {},
   "outputs": [],
   "source": [
    "# Get the distance of images from the cluster and choose the images with the lowest distance\n",
    "distance_cluster_0 = []\n",
    "for i, label in enumerate(kmeans_clusters.labels_):\n",
    "    if label == 0:\n",
    "        distance_cluster_0.append(distance[i][0])"
   ]
  },
  {
   "cell_type": "code",
   "execution_count": 67,
   "metadata": {},
   "outputs": [
    {
     "data": {
      "text/plain": [
       "2.9776862"
      ]
     },
     "execution_count": 67,
     "metadata": {},
     "output_type": "execute_result"
    }
   ],
   "source": [
    "sorted(distance_cluster_0)[0]"
   ]
  },
  {
   "cell_type": "code",
   "execution_count": null,
   "metadata": {},
   "outputs": [],
   "source": []
  }
 ],
 "metadata": {
  "kernelspec": {
   "display_name": "Python 3",
   "language": "python",
   "name": "python3"
  },
  "language_info": {
   "codemirror_mode": {
    "name": "ipython",
    "version": 3
   },
   "file_extension": ".py",
   "mimetype": "text/x-python",
   "name": "python",
   "nbconvert_exporter": "python",
   "pygments_lexer": "ipython3",
   "version": "3.10.9"
  }
 },
 "nbformat": 4,
 "nbformat_minor": 2
}
